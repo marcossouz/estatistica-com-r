{
 "cells": [
  {
   "cell_type": "code",
   "execution_count": 3,
   "id": "99efbfec-7baf-48c9-b556-2bdc5660491f",
   "metadata": {
    "tags": []
   },
   "outputs": [],
   "source": [
    "import statistics"
   ]
  },
  {
   "cell_type": "code",
   "execution_count": 1,
   "id": "a4c6314a-2ebb-4b16-949d-91a16528d902",
   "metadata": {
    "tags": []
   },
   "outputs": [],
   "source": [
    "item1 = [7732.2, 5407, 8999, 10500, 10001.59]\n",
    "item2 = [10078.16, 11999, 7053, 7200, 7125.19, 8695.89]\n",
    "item3 = [13376.18, 15999, 9327, 15900, 15509.99]"
   ]
  },
  {
   "cell_type": "code",
   "execution_count": 29,
   "id": "fa36ab67-8fae-4891-9cd0-3020d27a2a06",
   "metadata": {
    "tags": []
   },
   "outputs": [
    {
     "data": {
      "text/plain": [
       "8527.958"
      ]
     },
     "execution_count": 29,
     "metadata": {},
     "output_type": "execute_result"
    }
   ],
   "source": [
    "#Calculo do item 1\n",
    "\n",
    "#Média\n",
    "M = statistics.mean(item1)\n",
    "M"
   ]
  },
  {
   "cell_type": "code",
   "execution_count": 31,
   "id": "00581c79-d58f-4f4d-86ef-38519b47523c",
   "metadata": {
    "tags": []
   },
   "outputs": [
    {
     "data": {
      "text/plain": [
       "1825.1592324660335"
      ]
     },
     "execution_count": 31,
     "metadata": {},
     "output_type": "execute_result"
    }
   ],
   "source": [
    "# Desvio Padrão\n",
    "DP = statistics.pstdev(item1)\n",
    "DP"
   ]
  },
  {
   "cell_type": "code",
   "execution_count": 33,
   "id": "ea21ce32-d87c-48db-bede-ee3d32990c25",
   "metadata": {
    "tags": []
   },
   "outputs": [
    {
     "data": {
      "text/plain": [
       "0.21402066385247598"
      ]
     },
     "execution_count": 33,
     "metadata": {},
     "output_type": "execute_result"
    }
   ],
   "source": [
    "# CV = DP/M\n",
    "CV = DP/M\n",
    "CV"
   ]
  },
  {
   "cell_type": "code",
   "execution_count": 40,
   "id": "1379f5c8-9da6-4d4c-a9c2-a98d5d5a9480",
   "metadata": {
    "tags": []
   },
   "outputs": [
    {
     "data": {
      "text/plain": [
       "10353.117232466035"
      ]
     },
     "execution_count": 40,
     "metadata": {},
     "output_type": "execute_result"
    }
   ],
   "source": [
    "LS = M + DP\n",
    "LS"
   ]
  },
  {
   "cell_type": "code",
   "execution_count": 41,
   "id": "dfe2aade-a085-464b-a5f7-98c24390843e",
   "metadata": {
    "tags": []
   },
   "outputs": [
    {
     "data": {
      "text/plain": [
       "6702.798767533967"
      ]
     },
     "execution_count": 41,
     "metadata": {},
     "output_type": "execute_result"
    }
   ],
   "source": [
    "LI = M - DP\n",
    "LI"
   ]
  },
  {
   "cell_type": "code",
   "execution_count": 46,
   "id": "a355a420-332d-4d5f-8758-ee41a7e2e1aa",
   "metadata": {
    "tags": []
   },
   "outputs": [
    {
     "data": {
      "text/plain": [
       "[7732.2, 8999, 10001.59]"
      ]
     },
     "execution_count": 46,
     "metadata": {},
     "output_type": "execute_result"
    }
   ],
   "source": [
    "R = list(filter(lambda i:i < LS and i > LI, item1))\n",
    "R"
   ]
  },
  {
   "cell_type": "code",
   "execution_count": 47,
   "id": "873c22ca-48be-4366-b2b4-678d7137bbd6",
   "metadata": {
    "tags": []
   },
   "outputs": [
    {
     "data": {
      "text/plain": [
       "8910.93"
      ]
     },
     "execution_count": 47,
     "metadata": {},
     "output_type": "execute_result"
    }
   ],
   "source": [
    "statistics.mean(R)"
   ]
  },
  {
   "cell_type": "code",
   "execution_count": 50,
   "id": "8cf94f19-4e3b-4e2a-b864-b04942545f24",
   "metadata": {
    "tags": []
   },
   "outputs": [
    {
     "data": {
      "text/plain": [
       "9308.1975"
      ]
     },
     "execution_count": 50,
     "metadata": {},
     "output_type": "execute_result"
    }
   ],
   "source": [
    "statistics.mean(list(filter(lambda i:i > LI, item1)))"
   ]
  },
  {
   "cell_type": "code",
   "execution_count": 48,
   "id": "ebccac88-bde5-484b-a8f1-20b7f76351a5",
   "metadata": {
    "tags": []
   },
   "outputs": [
    {
     "data": {
      "text/plain": [
       "0.10420519481916372"
      ]
     },
     "execution_count": 48,
     "metadata": {},
     "output_type": "execute_result"
    }
   ],
   "source": [
    "statistics.pstdev(R)/statistics.mean(R)"
   ]
  },
  {
   "cell_type": "code",
   "execution_count": null,
   "id": "9262790f-d171-4dc2-9860-5c7734f160a4",
   "metadata": {},
   "outputs": [],
   "source": []
  }
 ],
 "metadata": {
  "kernelspec": {
   "display_name": "Python 3 (ipykernel)",
   "language": "python",
   "name": "python3"
  },
  "language_info": {
   "codemirror_mode": {
    "name": "ipython",
    "version": 3
   },
   "file_extension": ".py",
   "mimetype": "text/x-python",
   "name": "python",
   "nbconvert_exporter": "python",
   "pygments_lexer": "ipython3",
   "version": "3.10.8"
  }
 },
 "nbformat": 4,
 "nbformat_minor": 5
}
